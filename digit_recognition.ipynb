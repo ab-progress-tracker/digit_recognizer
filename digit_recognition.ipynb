{
 "cells": [
  {
   "cell_type": "code",
   "execution_count": 94,
   "id": "255531b3-32ed-42ff-9627-50a55ea438e2",
   "metadata": {},
   "outputs": [],
   "source": [
    "import numpy as np #self-explainatory\n",
    "import matplotlib.pyplot as plt #helps us visualize stuff\n",
    "import tensorflow as tf #neural network tool we're using\n",
    "from tensorflow import keras\n",
    "from tensorflow.keras import layers, models\n",
    "import os #tells us stuff abt the directory and whatnot\n",
    "import random"
   ]
  },
  {
   "cell_type": "code",
   "execution_count": 79,
   "id": "6c6ff0fa-adf5-4407-8397-df092b3c4875",
   "metadata": {
    "scrolled": true
   },
   "outputs": [
    {
     "name": "stdout",
     "output_type": "stream",
     "text": [
      "10000\n",
      "10000\n"
     ]
    }
   ],
   "source": [
    "(train_img, train_lbl), (test_img, test_lbl) = keras.datasets.mnist.load_data()\n",
    "#splits the data into two sets: testing and training. keras is doing all of this\n",
    "print(len(test_img))\n",
    "print(len(test_lbl))"
   ]
  },
  {
   "cell_type": "code",
   "execution_count": 74,
   "id": "7efc080a-de60-415e-aae1-de7e6db1f0f9",
   "metadata": {},
   "outputs": [],
   "source": [
    "train_img = train_img/255\n",
    "test_img = test_img/255\n",
    "#in the mnist dataset, each pixel in each image is a value from 0 to 255. \n",
    "#why deal with such big numbers? too complicated. i'll divide by 255 to give me a value between 0 and 1 instead."
   ]
  },
  {
   "cell_type": "code",
   "execution_count": 75,
   "id": "6a40a045-28a1-4dd6-912a-62e8f5df6547",
   "metadata": {},
   "outputs": [],
   "source": [
    "model = models.Sequential([ #this is the actual NN!\n",
    "#this is the actual NN!\n",
    "    layers.Flatten(input_shape=(28, 28)),\n",
    "    #2d->3d array\n",
    "    layers.Dense(128, activation='sigmoid'),\n",
    "    #64 neurons, decided to go with a sigmoid function bc why not\n",
    "    layers.Dense(128, activation='sigmoid'),\n",
    "    #i decided to add two layers bc i can mess with it better later on\n",
    "    layers.Dense(10, activation='softmax') #this is last layer there are ten numbers 0-9\n",
    "    #softmax gives the likelihood for any neuron 1-10 actually being the number 1-10. tells us probability basically of which digit it thinks it is\n",
    "])\n",
    "\n",
    "model.compile(optimizer='adam', loss='sparse_categorical_crossentropy', metrics=['accuracy'])\n",
    "#adam updates the weight of the models. idk what this means so it's in my comments for future learning\n",
    "#sparse_categorical_crossentropy calculates how far off the model's predictions are\n",
    "#metrics tells us how accurate the nn is"
   ]
  },
  {
   "cell_type": "code",
   "execution_count": 76,
   "id": "d9f37c01-fb0f-4a1e-97ac-eeb8c8e7b94c",
   "metadata": {
    "scrolled": true
   },
   "outputs": [
    {
     "name": "stdout",
     "output_type": "stream",
     "text": [
      "Epoch 1/5\n",
      "\u001b[1m1875/1875\u001b[0m \u001b[32m━━━━━━━━━━━━━━━━━━━━\u001b[0m\u001b[37m\u001b[0m \u001b[1m11s\u001b[0m 5ms/step - accuracy: 0.7908 - loss: 0.7812\n",
      "Epoch 2/5\n",
      "\u001b[1m1875/1875\u001b[0m \u001b[32m━━━━━━━━━━━━━━━━━━━━\u001b[0m\u001b[37m\u001b[0m \u001b[1m9s\u001b[0m 5ms/step - accuracy: 0.9457 - loss: 0.1845 \n",
      "Epoch 3/5\n",
      "\u001b[1m1875/1875\u001b[0m \u001b[32m━━━━━━━━━━━━━━━━━━━━\u001b[0m\u001b[37m\u001b[0m \u001b[1m9s\u001b[0m 5ms/step - accuracy: 0.9623 - loss: 0.1258\n",
      "Epoch 4/5\n",
      "\u001b[1m1875/1875\u001b[0m \u001b[32m━━━━━━━━━━━━━━━━━━━━\u001b[0m\u001b[37m\u001b[0m \u001b[1m10s\u001b[0m 5ms/step - accuracy: 0.9729 - loss: 0.0885\n",
      "Epoch 5/5\n",
      "\u001b[1m1875/1875\u001b[0m \u001b[32m━━━━━━━━━━━━━━━━━━━━\u001b[0m\u001b[37m\u001b[0m \u001b[1m9s\u001b[0m 5ms/step - accuracy: 0.9803 - loss: 0.0667 \n"
     ]
    },
    {
     "data": {
      "text/plain": [
       "<keras.src.callbacks.history.History at 0x1382f3a10>"
      ]
     },
     "execution_count": 76,
     "metadata": {},
     "output_type": "execute_result"
    }
   ],
   "source": [
    "model.fit(train_img, train_lbl, epochs=5)\n",
    "#puts the training stuff into our model. also it trains 3 times bc why not"
   ]
  },
  {
   "cell_type": "code",
   "execution_count": 80,
   "id": "25276fe8-6cdb-4bcb-97b4-7d072a504353",
   "metadata": {},
   "outputs": [
    {
     "name": "stdout",
     "output_type": "stream",
     "text": [
      "10000\n",
      "10000\n",
      "\u001b[1m313/313\u001b[0m \u001b[32m━━━━━━━━━━━━━━━━━━━━\u001b[0m\u001b[37m\u001b[0m \u001b[1m1s\u001b[0m 3ms/step - accuracy: 0.9566 - loss: 0.1470    \n"
     ]
    }
   ],
   "source": [
    "print(len(test_img))\n",
    "print(len(test_lbl))\n",
    "test_loss, test_acc = model.evaluate(test_img, test_lbl)"
   ]
  },
  {
   "cell_type": "code",
   "execution_count": 81,
   "id": "570f3068-5250-4348-867a-a28e777d1850",
   "metadata": {},
   "outputs": [
    {
     "name": "stdout",
     "output_type": "stream",
     "text": [
      "Test accuracy: 0.9624000191688538\n",
      "\u001b[1m313/313\u001b[0m \u001b[32m━━━━━━━━━━━━━━━━━━━━\u001b[0m\u001b[37m\u001b[0m \u001b[1m1s\u001b[0m 2ms/step\n"
     ]
    }
   ],
   "source": [
    "print(f\"Test accuracy: {test_acc}\")\n",
    "predictions = model.predict(test_img)"
   ]
  },
  {
   "cell_type": "code",
   "execution_count": 105,
   "id": "79659eda-a71c-4863-b6e4-344b15d34e76",
   "metadata": {},
   "outputs": [
    {
     "data": {
      "image/png": "[encoded data removed]",
      "text/plain": [
       "<Figure size 640x480 with 1 Axes>"
      ]
     },
     "metadata": {},
     "output_type": "display_data"
    }
   ],
   "source": [
    "rnum=random.randint(0,9999)\n",
    "plt.imshow(test_img[rnum], cmap=plt.cm.binary)\n",
    "plt.title(f\"Predicted: {np.argmax(predictions[rnum])}\")\n",
    "plt.show()"
   ]
  }
 ],
 "metadata": {
  "kernelspec": {
   "display_name": "Python 3 (ipykernel)",
   "language": "python",
   "name": "python3"
  },
  "language_info": {
   "codemirror_mode": {
    "name": "ipython",
    "version": 3
   },
   "file_extension": ".py",
   "mimetype": "text/x-python",
   "name": "python",
   "nbconvert_exporter": "python",
   "pygments_lexer": "ipython3",
   "version": "3.12.4"
  }
 },
 "nbformat": 4,
 "nbformat_minor": 5
}
